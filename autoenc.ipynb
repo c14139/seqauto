{
 "cells": [
  {
   "cell_type": "code",
   "execution_count": 12,
   "metadata": {},
   "outputs": [],
   "source": [
    "import tensorflow as tf\n",
    "from tensorflow.python.ops.rnn_cell import LSTMCell\n",
    "import numpy as np\n",
    "tf.set_random_seed(2016)\n",
    "np.random.seed(2016)\n",
    "\n",
    "tf.reset_default_graph()\n",
    "sess=tf.Session()"
   ]
  },
  {
   "cell_type": "code",
   "execution_count": 53,
   "metadata": {},
   "outputs": [
    {
     "name": "stdout",
     "output_type": "stream",
     "text": [
      "2941\n",
      "(2941, 300)\n"
     ]
    }
   ],
   "source": [
    "wordslist = np.load('word_list.npy')\n",
    "wordslist = wordslist.tolist()\n",
    "wordslist = [word.decode('UTF-8') for word in wordslist]\n",
    "wordvectors = np.load('word_embeddings.npy')\n",
    "print(len(wordslist))\n",
    "print(wordvectors.shape)"
   ]
  },
  {
   "cell_type": "code",
   "execution_count": 54,
   "metadata": {},
   "outputs": [
    {
     "name": "stdout",
     "output_type": "stream",
     "text": [
      "(10, 40)\n",
      "(10, 40)\n",
      "(10, 40)\n"
     ]
    }
   ],
   "source": [
    "#batch_size=1\n",
    "max_seq_length=40\n",
    "#iteration=1000\n",
    "#word2wec_dim=50\n",
    "batchsize = 10\n",
    "iterations = 10000\n",
    "#PAD = 0\n",
    "EOS = -1\n",
    "input_embedding_size = 300\n",
    "encoder_hidden_units = 4096\n",
    "decoder_hidden_units = encoder_hidden_units\n",
    "encoder_inputs = tf.placeholder(shape=(batchsize,max_seq_length), dtype=tf.int32, name='encoder_inputs')\n",
    "decoder_targets = tf.placeholder(shape=(batchsize, max_seq_length), dtype=tf.int32, name='decoder_targets')\n",
    "decoder_inputs = tf.placeholder(shape=(batchsize, max_seq_length), dtype=tf.int32, name='decoder_inputs')\n",
    "print(encoder_inputs.shape)\n",
    "print(decoder_targets.shape)\n",
    "print(decoder_inputs.shape)"
   ]
  },
  {
   "cell_type": "code",
   "execution_count": 55,
   "metadata": {},
   "outputs": [
    {
     "name": "stdout",
     "output_type": "stream",
     "text": [
      "(40000, 40)\n",
      "2940\n",
      "[[1663 1134  357 ...    0    0    0]\n",
      " [1134  357 2414 ...    0    0    0]\n",
      " [1287  298 2035 ...    0    0    0]\n",
      " ...\n",
      " [1663  752 1067 ...    0    0    0]\n",
      " [1663  357 2134 ...    0    0    0]\n",
      " [1663  357 1864 ...    0    0    0]]\n"
     ]
    }
   ],
   "source": [
    "ids = np.load('idsMatrix.npy')\n",
    "decoder_inp = np.load('decoder-input-matrix.npy')\n",
    "decoder_out = np.load('decoder-target-matrix.npy')\n",
    "print(decoder_inp.shape)\n",
    "print (np.amax(ids))\n",
    "print(ids)"
   ]
  },
  {
   "cell_type": "code",
   "execution_count": 37,
   "metadata": {},
   "outputs": [
    {
     "data": {
      "text/plain": [
       "dtype('int32')"
      ]
     },
     "execution_count": 37,
     "metadata": {},
     "output_type": "execute_result"
    }
   ],
   "source": [
    "ids.dtype"
   ]
  },
  {
   "cell_type": "code",
   "execution_count": 56,
   "metadata": {
    "scrolled": true
   },
   "outputs": [
    {
     "data": {
      "text/plain": [
       "dtype('float32')"
      ]
     },
     "execution_count": 56,
     "metadata": {},
     "output_type": "execute_result"
    }
   ],
   "source": [
    "wordvectors.dtype"
   ]
  },
  {
   "cell_type": "code",
   "execution_count": null,
   "metadata": {},
   "outputs": [],
   "source": []
  },
  {
   "cell_type": "code",
   "execution_count": 7,
   "metadata": {},
   "outputs": [],
   "source": [
    "wordvectors = wordvectors.astype(dtype=np.float32)"
   ]
  },
  {
   "cell_type": "code",
   "execution_count": 57,
   "metadata": {},
   "outputs": [
    {
     "name": "stdout",
     "output_type": "stream",
     "text": [
      "(10, 40, 300)\n",
      "(10, 40, 300)\n",
      "(10, 40, 300)\n"
     ]
    }
   ],
   "source": [
    "numDimensions = 300\n",
    "encoder_inputs_embedded = tf.Variable(tf.zeros([batchsize, max_seq_length, numDimensions]),dtype=tf.float32)\n",
    "decoder_inputs_embedded = tf.Variable(tf.zeros([batchsize, max_seq_length, numDimensions]),dtype=tf.float32)\n",
    "decoder_outputs_embedded = tf.Variable(tf.zeros([batchsize, max_seq_length, numDimensions]),dtype=tf.float32)\n",
    "#print(encoder_inputs_embedded.shape)\n",
    "\n",
    "encoder_inputs_embedded = tf.nn.embedding_lookup(wordvectors, encoder_inputs)\n",
    "decoder_inputs_embedded = tf.nn.embedding_lookup(wordvectors, decoder_inputs)\n",
    "decoder_outputs_embedded = tf.nn.embedding_lookup(wordvectors, decoder_targets)\n",
    "print(encoder_inputs_embedded.shape)\n",
    "print(decoder_inputs_embedded.shape)\n",
    "print(decoder_outputs_embedded.shape)"
   ]
  },
  {
   "cell_type": "code",
   "execution_count": 58,
   "metadata": {},
   "outputs": [],
   "source": [
    "encoder_cell = tf.contrib.rnn.LSTMCell(encoder_hidden_units)\n",
    "#encoder_cell.shape"
   ]
  },
  {
   "cell_type": "code",
   "execution_count": 59,
   "metadata": {},
   "outputs": [
    {
     "data": {
      "text/plain": [
       "<tf.Tensor 'embedding_lookup_3:0' shape=(10, 40, 300) dtype=float32>"
      ]
     },
     "execution_count": 59,
     "metadata": {},
     "output_type": "execute_result"
    }
   ],
   "source": [
    "encoder_inputs_embedded"
   ]
  },
  {
   "cell_type": "code",
   "execution_count": 60,
   "metadata": {
    "scrolled": false
   },
   "outputs": [
    {
     "name": "stdout",
     "output_type": "stream",
     "text": [
      "(10, 40, 4096)\n"
     ]
    }
   ],
   "source": [
    "encoder_outputs, encoder_final_state = tf.nn.dynamic_rnn(encoder_cell, encoder_inputs_embedded,dtype=tf.float32)\n",
    "print(encoder_outputs.shape)\n",
    "#print(encoder_final_state.shape)"
   ]
  },
  {
   "cell_type": "code",
   "execution_count": 61,
   "metadata": {},
   "outputs": [
    {
     "data": {
      "text/plain": [
       "<tensorflow.python.ops.rnn_cell_impl.LSTMCell at 0x7f63204fb850>"
      ]
     },
     "execution_count": 61,
     "metadata": {},
     "output_type": "execute_result"
    }
   ],
   "source": [
    "encoder_cell"
   ]
  },
  {
   "cell_type": "code",
   "execution_count": 62,
   "metadata": {},
   "outputs": [
    {
     "data": {
      "text/plain": [
       "<tf.Tensor 'rnn/transpose_1:0' shape=(10, 40, 4096) dtype=float32>"
      ]
     },
     "execution_count": 62,
     "metadata": {},
     "output_type": "execute_result"
    }
   ],
   "source": [
    "encoder_outputs"
   ]
  },
  {
   "cell_type": "code",
   "execution_count": 63,
   "metadata": {},
   "outputs": [
    {
     "data": {
      "text/plain": [
       "LSTMStateTuple(c=<tf.Tensor 'rnn/while/Exit_3:0' shape=(10, 4096) dtype=float32>, h=<tf.Tensor 'rnn/while/Exit_4:0' shape=(10, 4096) dtype=float32>)"
      ]
     },
     "execution_count": 63,
     "metadata": {},
     "output_type": "execute_result"
    }
   ],
   "source": [
    "encoder_final_state"
   ]
  },
  {
   "cell_type": "code",
   "execution_count": 64,
   "metadata": {},
   "outputs": [],
   "source": [
    "decoder_cell = tf.contrib.rnn.LSTMCell(decoder_hidden_units)"
   ]
  },
  {
   "cell_type": "code",
   "execution_count": 65,
   "metadata": {},
   "outputs": [],
   "source": [
    "decoder_outputs, decoder_final_state = tf.nn.dynamic_rnn(\n",
    "    decoder_cell, decoder_inputs_embedded,\n",
    "    initial_state=encoder_final_state,\n",
    "    dtype=tf.float32, time_major=False, scope=\"plain_decoder\")"
   ]
  },
  {
   "cell_type": "code",
   "execution_count": 66,
   "metadata": {},
   "outputs": [
    {
     "data": {
      "text/plain": [
       "<tf.Tensor 'plain_decoder/transpose_1:0' shape=(10, 40, 4096) dtype=float32>"
      ]
     },
     "execution_count": 66,
     "metadata": {},
     "output_type": "execute_result"
    }
   ],
   "source": [
    "decoder_outputs"
   ]
  },
  {
   "cell_type": "code",
   "execution_count": 67,
   "metadata": {},
   "outputs": [
    {
     "data": {
      "text/plain": [
       "LSTMStateTuple(c=<tf.Tensor 'plain_decoder/while/Exit_3:0' shape=(10, 4096) dtype=float32>, h=<tf.Tensor 'plain_decoder/while/Exit_4:0' shape=(10, 4096) dtype=float32>)"
      ]
     },
     "execution_count": 67,
     "metadata": {},
     "output_type": "execute_result"
    }
   ],
   "source": [
    "decoder_final_state"
   ]
  },
  {
   "cell_type": "code",
   "execution_count": 68,
   "metadata": {},
   "outputs": [],
   "source": [
    "decoder_logits = tf.contrib.layers.linear(decoder_outputs, len(wordslist))\n",
    "decoder_prediction = tf.argmax(decoder_logits, 2)"
   ]
  },
  {
   "cell_type": "code",
   "execution_count": 69,
   "metadata": {},
   "outputs": [
    {
     "data": {
      "text/plain": [
       "<tf.Tensor 'fully_connected/BiasAdd:0' shape=(10, 40, 2941) dtype=float32>"
      ]
     },
     "execution_count": 69,
     "metadata": {},
     "output_type": "execute_result"
    }
   ],
   "source": [
    "decoder_logits"
   ]
  },
  {
   "cell_type": "code",
   "execution_count": 70,
   "metadata": {},
   "outputs": [
    {
     "data": {
      "text/plain": [
       "<tf.Tensor 'ArgMax:0' shape=(10, 40) dtype=int64>"
      ]
     },
     "execution_count": 70,
     "metadata": {},
     "output_type": "execute_result"
    }
   ],
   "source": [
    "decoder_prediction"
   ]
  },
  {
   "cell_type": "code",
   "execution_count": 71,
   "metadata": {},
   "outputs": [
    {
     "name": "stdout",
     "output_type": "stream",
     "text": [
      "WARNING:tensorflow:From <ipython-input-71-af21ebbc100c>:3: softmax_cross_entropy_with_logits (from tensorflow.python.ops.nn_ops) is deprecated and will be removed in a future version.\n",
      "Instructions for updating:\n",
      "\n",
      "Future major versions of TensorFlow will allow gradients to flow\n",
      "into the labels input on backprop by default.\n",
      "\n",
      "See tf.nn.softmax_cross_entropy_with_logits_v2.\n",
      "\n"
     ]
    }
   ],
   "source": [
    "stepwise_cross_entropy = tf.nn.softmax_cross_entropy_with_logits(\n",
    "    labels=tf.one_hot(decoder_targets, depth= len(wordslist), dtype=tf.float32),\n",
    "    logits=decoder_logits,\n",
    ")"
   ]
  },
  {
   "cell_type": "code",
   "execution_count": 72,
   "metadata": {},
   "outputs": [],
   "source": [
    "loss = tf.reduce_mean(stepwise_cross_entropy)\n",
    "train_op = tf.train.AdamOptimizer().minimize(loss)"
   ]
  },
  {
   "cell_type": "code",
   "execution_count": 73,
   "metadata": {},
   "outputs": [
    {
     "data": {
      "text/plain": [
       "<tf.Tensor 'softmax_cross_entropy_with_logits_sg/Reshape_2:0' shape=(10, 40) dtype=float32>"
      ]
     },
     "execution_count": 73,
     "metadata": {},
     "output_type": "execute_result"
    }
   ],
   "source": [
    "stepwise_cross_entropy"
   ]
  },
  {
   "cell_type": "code",
   "execution_count": 25,
   "metadata": {},
   "outputs": [],
   "source": [
    "ids = np.load('idsMatrix.npy')\n",
    "\n",
    "decoder_inp = np.load('decoder-input-matrix.npy')\n",
    "decoder_out = np.load('decoder-target-matrix.npy')"
   ]
  },
  {
   "cell_type": "code",
   "execution_count": 26,
   "metadata": {},
   "outputs": [],
   "source": [
    "import random\n",
    "#def get_next(matrix):\n",
    "def next_feed(current_index):\n",
    "    k = 0\n",
    "    encoderinputs = list()\n",
    "    decoderinputs = list()\n",
    "    decodertargets = list()\n",
    "    for i in range(current_index,current_index+100):\n",
    "        val = random.randint(current_index,current_index+5)\n",
    "        encoderinputs.append(ids[val])\n",
    "        decoderinputs.append(decoder_inp[val])\n",
    "        decodertargets.append(decoder_out[val])\n",
    "        i = i + 5\n",
    "    current_index = current_index + 500\n",
    "    return{\n",
    "        encoder_inputs: np.asarray(encoderinputs,dtype=np.int),\n",
    "        decoder_inputs: np.asarray(decoderinputs,dtype=np.int),\n",
    "        decoder_targets: np.asarray(decodertargets,dtype=np.int)\n",
    "    }"
   ]
  },
  {
   "cell_type": "code",
   "execution_count": 75,
   "metadata": {},
   "outputs": [],
   "source": [
    "import random\n",
    "def get_batch():\n",
    "    import random\n",
    "    value = random.randint(0,39991)\n",
    "    \n",
    "    matrix = ids[value:(value+10)]\n",
    "    matrix1 = decoder_inp[value:(value+10)]\n",
    "    matrix2 = decoder_out[value:(value+10)]\n",
    "    return{\n",
    "        encoder_inputs: matrix,\n",
    "        decoder_inputs: matrix1,\n",
    "        decoder_targets: matrix2\n",
    "    }\n"
   ]
  },
  {
   "cell_type": "code",
   "execution_count": 81,
   "metadata": {},
   "outputs": [
    {
     "name": "stdout",
     "output_type": "stream",
     "text": [
      "batch 0\n",
      "  minibatch loss: 4.43425655365\n",
      "  sample 1:\n",
      "    input     > [1663 1663 1663 1663 1663 1663 2002 1663 1663 1663]\n",
      "    predicted > [1663 1663 1663 1663 1663 1663 1663 1663 1663 1663]\n",
      "  sample 2:\n",
      "    input     > [1516 1516 2002 2002 1533 2239  376 2002 2002  468]\n",
      "    predicted > [0 0 0 0 0 0 0 0 0 0]\n",
      "  sample 3:\n",
      "    input     > [1675 2283  488 1428  468  468 2488  492  376  376]\n",
      "    predicted > [0 0 0 0 0 0 0 0 0 0]\n",
      "tmp/model.ckpt\n"
     ]
    }
   ],
   "source": [
    "\n",
    "\n",
    "sess.run(tf.global_variables_initializer())\n",
    "saver = tf.train.Saver()\n",
    "loss_track = []\n",
    "\n",
    "\n",
    "current_index = 0\n",
    "\n",
    "\n",
    "\n",
    "n_steps = 4001\n",
    "batches_in_epoch = 40\n",
    "\n",
    "try:\n",
    "    for batch in range(1):\n",
    "        fd = get_batch()\n",
    "        #print(fd)\n",
    "        current_index = current_index + 500\n",
    "        _, l = sess.run([train_op, loss],fd)\n",
    "        loss_track.append(l)\n",
    "\n",
    "        if batch == 0 or batch % batches_in_epoch == 0:\n",
    "            print('batch {}'.format(batch))\n",
    "            print('  minibatch loss: {}'.format(sess.run(loss, fd)))\n",
    "            #print('  minibatch loss: {}'.format(sess.run(loss, fd)))\n",
    "            predict_ = sess.run(decoder_prediction, fd)\n",
    "            for i, (inp, pred) in enumerate(zip(fd[encoder_inputs].T, predict_.T)):\n",
    "                print('  sample {}:'.format(i + 1))\n",
    "                print('    input     > {}'.format(inp))\n",
    "                print('    predicted > {}'.format(pred))\n",
    "                if i >= 2:\n",
    "                    break\n",
    "        \n",
    "    \n",
    "    print(save_path)\n",
    "except KeyboardInterrupt:\n",
    "    print('training interrupted')\n",
    "    \n",
    "save_path = saver.save(sess, \"/media/Hardik/58744D2F744D10E4/tmp/model.ckpt\")\n",
    "#sess.close()"
   ]
  },
  {
   "cell_type": "code",
   "execution_count": null,
   "metadata": {},
   "outputs": [],
   "source": []
  }
 ],
 "metadata": {
  "kernelspec": {
   "display_name": "Python 2",
   "language": "python",
   "name": "python2"
  },
  "language_info": {
   "codemirror_mode": {
    "name": "ipython",
    "version": 2
   },
   "file_extension": ".py",
   "mimetype": "text/x-python",
   "name": "python",
   "nbconvert_exporter": "python",
   "pygments_lexer": "ipython2",
   "version": "2.7.12"
  }
 },
 "nbformat": 4,
 "nbformat_minor": 2
}
